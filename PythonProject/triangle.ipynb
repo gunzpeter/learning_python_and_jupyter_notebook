{
 "cells": [
  {
   "cell_type": "markdown",
   "id": "0b6302c7-659b-46f4-b368-4b2a3c2df7ca",
   "metadata": {
    "collapsed": true,
    "jupyter": {
     "outputs_hidden": true
    }
   },
   "source": [
    "** Háromszöges"
   ]
  },
  {
   "cell_type": "code",
   "id": "a8461746f09b63f3",
   "metadata": {
    "ExecuteTime": {
     "end_time": "2025-02-23T18:48:06.406367Z",
     "start_time": "2025-02-23T18:48:00.629122Z"
    }
   },
   "source": [
    "\n",
    "a = (int(input(\"add meg az első oldalt hosszát: \")))\n",
    "b = (int(input(\"add meg a második oldalt hosszát: \")))\n",
    "c = (int(input(\"add meg a harmadik oldalt hosszát: \")))\n",
    "\n",
    "if a + b >= c or a + c >= b or c + b >= a:\n",
    "    print (\"ügyes vagy, létezik ilyen háromszög!\")\n",
    "else:\n",
    "    print (\"menj vissza elsőbe!\")\n",
    "\n",
    "print ()\n",
    "if a**2 + b**2 == c**2 or a**2 + c**2 == b**2 or b**2 + c**2 == a**2:\n",
    "    print (\" ez egy derékszögü háromszög!\")\n",
    "else:\n",
    "    print (\" nem egy derékszögü háromszög!\")\n",
    "print()\n"
   ],
   "outputs": [
    {
     "name": "stdout",
     "output_type": "stream",
     "text": [
      "ügyes vagy, létezik ilyen háromszög!\n",
      "\n",
      " nem egy derékszögü háromszög!\n",
      "\n"
     ]
    }
   ],
   "execution_count": 2
  },
  {
   "cell_type": "code",
   "id": "96cce0e2b464554b",
   "metadata": {
    "ExecuteTime": {
     "end_time": "2025-02-23T18:17:29.188493Z",
     "start_time": "2025-02-23T18:17:17.340064Z"
    }
   },
   "source": [
    "import graphics\n",
    "from graphics import*\n",
    "import numpy as np\n",
    "\n",
    "#egész számokkal\n",
    "#a = int(input(\"Add meg az A oldal hosszát: \"))\n",
    "#b = int(input(\"Add meg a B oldal hosszát: \"))\n",
    "#c = math.isqrt(a*a + b*b)\n",
    "\n",
    "#lebegő pontos számítás\n",
    "a = float(input(\"Add meg az A oldal hosszát: \"))\n",
    "b = float(input(\"Add meg a B oldal hosszát: \"))\n",
    "c = round(np.hypot(a, b),4)             #only 4 decimals on floating nr\n",
    "\n",
    "print (\"A c oldal hossza:\",c)\n",
    "\n",
    "win=graphics.GraphWin(\"Draw triangle - Click to close\",500,500)\n",
    "\n",
    "x = (a*50)  \n",
    "y = (b*50)\n",
    "z = (c*50)\n",
    "\n",
    "#régi kódolás - tömb létrehozása\n",
    "#vertices = []\n",
    "#vertices.append(graphics.Point(100,400))   #A - pont\n",
    "#vertices.append(graphics.Point(100+y,400)) #B - pont\n",
    "#vertices.append(graphics.Point(100,400-x)) #C - pont\n",
    "\n",
    "#tömb létrehozása\n",
    "vertices = [graphics.Point(100, 400), graphics.Point(100 + y, 400), graphics.Point(100, 400 - x)]\n",
    "triangle = graphics.Polygon(vertices)\n",
    "triangle.setFill('blue')\n",
    "triangle.draw(win)\n",
    "\n",
    "Oldal = Text(Point(90,400-x/2-10), ('a=',a))\n",
    "Oldal.draw(win)\n",
    "Oldal = Text(Point(100+y/2+10,410), ('b=',b))\n",
    "Oldal.draw(win)\n",
    "Oldal = Text(Point(100+y/2+10,400-x/2-10), ('c',c))\n",
    "Oldal.draw(win)\n",
    "print (\"Tomi a legjobb\")\n",
    "\n",
    "win.getMouse()\n",
    "win.close()\n",
    "\n"
   ],
   "outputs": [
    {
     "name": "stdout",
     "output_type": "stream",
     "text": [
      "A c oldal hossza: 5.099\n",
      "Tomi a legjobb\n"
     ]
    },
    {
     "ename": "GraphicsError",
     "evalue": "getMouse in closed window",
     "output_type": "error",
     "traceback": [
      "\u001B[1;31m---------------------------------------------------------------------------\u001B[0m",
      "\u001B[1;31mGraphicsError\u001B[0m                             Traceback (most recent call last)",
      "Cell \u001B[1;32mIn[8], line 43\u001B[0m\n\u001B[0;32m     40\u001B[0m Oldal\u001B[38;5;241m.\u001B[39mdraw(win)\n\u001B[0;32m     41\u001B[0m \u001B[38;5;28mprint\u001B[39m (\u001B[38;5;124m\"\u001B[39m\u001B[38;5;124mTomi a legjobb\u001B[39m\u001B[38;5;124m\"\u001B[39m)\n\u001B[1;32m---> 43\u001B[0m \u001B[43mwin\u001B[49m\u001B[38;5;241;43m.\u001B[39;49m\u001B[43mgetMouse\u001B[49m\u001B[43m(\u001B[49m\u001B[43m)\u001B[49m\n\u001B[0;32m     44\u001B[0m win\u001B[38;5;241m.\u001B[39mclose()\n",
      "File \u001B[1;32m~\\AppData\\Local\\Programs\\Python\\Python313\\Lib\\site-packages\\graphics\\__init__.py:316\u001B[0m, in \u001B[0;36mGraphWin.getMouse\u001B[1;34m(self)\u001B[0m\n\u001B[0;32m    314\u001B[0m \u001B[38;5;28;01mwhile\u001B[39;00m \u001B[38;5;28mself\u001B[39m\u001B[38;5;241m.\u001B[39mmouseX \u001B[38;5;241m==\u001B[39m \u001B[38;5;28;01mNone\u001B[39;00m \u001B[38;5;129;01mor\u001B[39;00m \u001B[38;5;28mself\u001B[39m\u001B[38;5;241m.\u001B[39mmouseY \u001B[38;5;241m==\u001B[39m \u001B[38;5;28;01mNone\u001B[39;00m:\n\u001B[0;32m    315\u001B[0m     \u001B[38;5;28mself\u001B[39m\u001B[38;5;241m.\u001B[39mupdate()\n\u001B[1;32m--> 316\u001B[0m     \u001B[38;5;28;01mif\u001B[39;00m \u001B[38;5;28mself\u001B[39m\u001B[38;5;241m.\u001B[39misClosed(): \u001B[38;5;28;01mraise\u001B[39;00m GraphicsError(\u001B[38;5;124m\"\u001B[39m\u001B[38;5;124mgetMouse in closed window\u001B[39m\u001B[38;5;124m\"\u001B[39m)\n\u001B[0;32m    317\u001B[0m     time\u001B[38;5;241m.\u001B[39msleep(\u001B[38;5;241m.1\u001B[39m) \u001B[38;5;66;03m# give up thread\u001B[39;00m\n\u001B[0;32m    318\u001B[0m x,y \u001B[38;5;241m=\u001B[39m \u001B[38;5;28mself\u001B[39m\u001B[38;5;241m.\u001B[39mtoWorld(\u001B[38;5;28mself\u001B[39m\u001B[38;5;241m.\u001B[39mmouseX, \u001B[38;5;28mself\u001B[39m\u001B[38;5;241m.\u001B[39mmouseY)\n",
      "\u001B[1;31mGraphicsError\u001B[0m: getMouse in closed window"
     ]
    }
   ],
   "execution_count": 8
  },
  {
   "metadata": {
    "ExecuteTime": {
     "end_time": "2025-02-23T18:44:48.166329Z",
     "start_time": "2025-02-23T18:44:37.717319Z"
    }
   },
   "cell_type": "code",
   "source": [
    "import graphics\n",
    "from graphics import*\n",
    "import numpy as np\n",
    "\n",
    "r = (int(input(\"Mekkora legyen az ember fejének a rádiusza?: \")))\n",
    "win=graphics.GraphWin(\"Draw circle - Click to close\",700,700)\n",
    "\n",
    "kor = Circle(Point(350,350), r*10)\n",
    "kor.setFill('green')\n",
    "kor.draw(win)\n",
    "szem = Circle(Point(380,340), r*2.5)\n",
    "szem.setFill('black')\n",
    "szem.draw(win)\n",
    "masikszem = Circle(Point(320,340), r*2.5)\n",
    "masikszem.setFill('black')\n",
    "masikszem.draw(win)\n",
    "szaj = Rectangle(Point(350,380),Point(360,400),)\n",
    "szaj.setFill('black')\n",
    "szaj.draw(win)\n",
    "\n",
    "win.getMouse()\n",
    "win.close()"
   ],
   "id": "eab5dda0f6570a94",
   "outputs": [
    {
     "ename": "GraphicsError",
     "evalue": "getMouse in closed window",
     "output_type": "error",
     "traceback": [
      "\u001B[1;31m---------------------------------------------------------------------------\u001B[0m",
      "\u001B[1;31mGraphicsError\u001B[0m                             Traceback (most recent call last)",
      "Cell \u001B[1;32mIn[5], line 21\u001B[0m\n\u001B[0;32m     18\u001B[0m szaj\u001B[38;5;241m.\u001B[39msetFill(\u001B[38;5;124m'\u001B[39m\u001B[38;5;124mblack\u001B[39m\u001B[38;5;124m'\u001B[39m)\n\u001B[0;32m     19\u001B[0m szaj\u001B[38;5;241m.\u001B[39mdraw(win)\n\u001B[1;32m---> 21\u001B[0m \u001B[43mwin\u001B[49m\u001B[38;5;241;43m.\u001B[39;49m\u001B[43mgetMouse\u001B[49m\u001B[43m(\u001B[49m\u001B[43m)\u001B[49m\n\u001B[0;32m     22\u001B[0m win\u001B[38;5;241m.\u001B[39mclose()\n",
      "File \u001B[1;32m~\\AppData\\Local\\Programs\\Python\\Python313\\Lib\\site-packages\\graphics\\__init__.py:316\u001B[0m, in \u001B[0;36mGraphWin.getMouse\u001B[1;34m(self)\u001B[0m\n\u001B[0;32m    314\u001B[0m \u001B[38;5;28;01mwhile\u001B[39;00m \u001B[38;5;28mself\u001B[39m\u001B[38;5;241m.\u001B[39mmouseX \u001B[38;5;241m==\u001B[39m \u001B[38;5;28;01mNone\u001B[39;00m \u001B[38;5;129;01mor\u001B[39;00m \u001B[38;5;28mself\u001B[39m\u001B[38;5;241m.\u001B[39mmouseY \u001B[38;5;241m==\u001B[39m \u001B[38;5;28;01mNone\u001B[39;00m:\n\u001B[0;32m    315\u001B[0m     \u001B[38;5;28mself\u001B[39m\u001B[38;5;241m.\u001B[39mupdate()\n\u001B[1;32m--> 316\u001B[0m     \u001B[38;5;28;01mif\u001B[39;00m \u001B[38;5;28mself\u001B[39m\u001B[38;5;241m.\u001B[39misClosed(): \u001B[38;5;28;01mraise\u001B[39;00m GraphicsError(\u001B[38;5;124m\"\u001B[39m\u001B[38;5;124mgetMouse in closed window\u001B[39m\u001B[38;5;124m\"\u001B[39m)\n\u001B[0;32m    317\u001B[0m     time\u001B[38;5;241m.\u001B[39msleep(\u001B[38;5;241m.1\u001B[39m) \u001B[38;5;66;03m# give up thread\u001B[39;00m\n\u001B[0;32m    318\u001B[0m x,y \u001B[38;5;241m=\u001B[39m \u001B[38;5;28mself\u001B[39m\u001B[38;5;241m.\u001B[39mtoWorld(\u001B[38;5;28mself\u001B[39m\u001B[38;5;241m.\u001B[39mmouseX, \u001B[38;5;28mself\u001B[39m\u001B[38;5;241m.\u001B[39mmouseY)\n",
      "\u001B[1;31mGraphicsError\u001B[0m: getMouse in closed window"
     ]
    }
   ],
   "execution_count": 5
  },
  {
   "cell_type": "markdown",
   "id": "3e3b73a2-f556-4db1-9e62-e1e5c3651305",
   "metadata": {},
   "source": []
  },
  {
   "metadata": {},
   "cell_type": "code",
   "outputs": [],
   "execution_count": null,
   "source": "",
   "id": "1e91d5708b06e00d"
  }
 ],
 "metadata": {
  "kernelspec": {
   "display_name": "Python 3 (ipykernel)",
   "language": "python",
   "name": "python3"
  },
  "language_info": {
   "codemirror_mode": {
    "name": "ipython",
    "version": 3
   },
   "file_extension": ".py",
   "mimetype": "text/x-python",
   "name": "python",
   "nbconvert_exporter": "python",
   "pygments_lexer": "ipython3",
   "version": "3.13.2"
  }
 },
 "nbformat": 4,
 "nbformat_minor": 5
}
