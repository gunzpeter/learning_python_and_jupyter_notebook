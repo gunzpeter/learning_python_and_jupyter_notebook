{
 "cells": [
  {
   "cell_type": "markdown",
   "id": "0b6302c7-659b-46f4-b368-4b2a3c2df7ca",
   "metadata": {
    "collapsed": true,
    "jupyter": {
     "outputs_hidden": true
    }
   },
   "source": [
    "** Háromszöges"
   ]
  },
  {
   "cell_type": "code",
   "id": "a8461746f09b63f3",
   "metadata": {
    "ExecuteTime": {
     "end_time": "2025-02-23T18:48:06.406367Z",
     "start_time": "2025-02-23T18:48:00.629122Z"
    }
   },
   "source": [
    "\n",
    "a = (int(input(\"add meg az első oldalt hosszát: \")))\n",
    "b = (int(input(\"add meg a második oldalt hosszát: \")))\n",
    "c = (int(input(\"add meg a harmadik oldalt hosszát: \")))\n",
    "\n",
    "if a + b >= c or a + c >= b or c + b >= a:\n",
    "    print (\"ügyes vagy, létezik ilyen háromszög!\")\n",
    "else:\n",
    "    print (\"menj vissza elsőbe!\")\n",
    "\n",
    "print ()\n",
    "if a**2 + b**2 == c**2 or a**2 + c**2 == b**2 or b**2 + c**2 == a**2:\n",
    "    print (\" ez egy derékszögü háromszög!\")\n",
    "else:\n",
    "    print (\" nem egy derékszögü háromszög!\")\n",
    "print()\n"
   ],
   "outputs": [
    {
     "name": "stdout",
     "output_type": "stream",
     "text": [
      "ügyes vagy, létezik ilyen háromszög!\n",
      "\n",
      " nem egy derékszögü háromszög!\n",
      "\n"
     ]
    }
   ],
   "execution_count": 2
  },
  {
   "cell_type": "code",
   "id": "96cce0e2b464554b",
   "metadata": {
    "ExecuteTime": {
     "end_time": "2025-02-24T06:52:53.229957Z",
     "start_time": "2025-02-24T06:52:49.521226Z"
    }
   },
   "source": [
    "import graphics\n",
    "from graphics import*\n",
    "import numpy as np\n",
    "\n",
    "#egész számokkal\n",
    "#a = int(input(\"Add meg az A oldal hosszát: \"))\n",
    "#b = int(input(\"Add meg a B oldal hosszát: \"))\n",
    "#c = math.isqrt(a*a + b*b)\n",
    "\n",
    "#lebegő pontos számítás\n",
    "a = float(input(\"Add meg az A oldal hosszát: \"))\n",
    "b = float(input(\"Add meg a B oldal hosszát: \"))\n",
    "c = round(np.hypot(a, b),4)             #only 4 decimals on floating nr\n",
    "\n",
    "print (\"A c oldal hossza:\",c)\n",
    "\n",
    "win=graphics.GraphWin(\"Draw triangle - Click to close\",500,500)\n",
    "\n",
    "x = (a*50)  \n",
    "y = (b*50)\n",
    "z = (c*50)\n",
    "\n",
    "#régi kódolás - tömb létrehozása\n",
    "#vertices = []\n",
    "#vertices.append(graphics.Point(100,400))   #A - pont\n",
    "#vertices.append(graphics.Point(100+y,400)) #B - pont\n",
    "#vertices.append(graphics.Point(100,400-x)) #C - pont\n",
    "\n",
    "#tömb létrehozása\n",
    "vertices = [graphics.Point(100, 400), graphics.Point(100 + y, 400), graphics.Point(100, 400 - x)]\n",
    "triangle = graphics.Polygon(vertices)\n",
    "triangle.setFill('blue')\n",
    "triangle.draw(win)\n",
    "\n",
    "Oldal = Text(Point(90,400-x/2-10), ('a=',a))\n",
    "Oldal.draw(win)\n",
    "Oldal = Text(Point(100+y/2+10,410), ('b=',b))\n",
    "Oldal.draw(win)\n",
    "Oldal = Text(Point(100+y/2+10,400-x/2-10), ('c',c))\n",
    "Oldal.draw(win)\n",
    "print (\"Tomi a legjobb\")\n",
    "\n",
    "win.getMouse()\n",
    "win.close()\n",
    "\n"
   ],
   "outputs": [
    {
     "name": "stdout",
     "output_type": "stream",
     "text": [
      "A c oldal hossza: 6.4031\n",
      "Tomi a legjobb\n"
     ]
    }
   ],
   "execution_count": 7
  },
  {
   "metadata": {
    "ExecuteTime": {
     "end_time": "2025-02-24T06:58:28.280121Z",
     "start_time": "2025-02-24T06:58:26.388525Z"
    }
   },
   "cell_type": "code",
   "source": [
    "import graphics\n",
    "from graphics import*\n",
    "import numpy as np\n",
    "\n",
    "r = (int(input(\"Mekkora legyen az ember fejének a rádiusza?(10 a max): \")))\n",
    "win=graphics.GraphWin(\"Draw circle - Click to close\",700,700)\n",
    "\n",
    "test = Rectangle(Point(325,390),Point(375,550),)\n",
    "test.setFill('green')\n",
    "test.draw(win)\n",
    "kor = Circle(Point(350,350), r*10)\n",
    "kor.setFill('green')\n",
    "kor.draw(win)\n",
    "\n",
    "szem = Circle(Point(380,340), r*2.5)\n",
    "szem.setFill('black')\n",
    "szem.draw(win)\n",
    "karika = Circle(Point(390,330), r*1.5)\n",
    "karika.setFill('white')\n",
    "karika.draw(win)\n",
    "masikkaraikaelso = Circle(Point(370,345), r*1)\n",
    "masikkaraikaelso.setFill('white')\n",
    "masikkaraikaelso.draw(win)\n",
    "masikszem = Circle(Point(320,340), r*2.5)\n",
    "masikszem.setFill('black')\n",
    "masikszem.draw(win)\n",
    "masikkarika = Circle(Point(330,330), r*1.5)\n",
    "masikkarika.setFill('white')\n",
    "masikkarika.draw(win)\n",
    "masikkaraikamasik = Circle(Point(310,345), r*1)\n",
    "masikkaraikamasik.setFill('white')\n",
    "masikkaraikamasik.draw(win)\n",
    "szaj = Rectangle(Point(325,370),Point(380,385), )\n",
    "szaj.setFill('red')\n",
    "szaj.draw(win)\n",
    "\n",
    "\n",
    "\n",
    "win.getMouse()\n",
    "win.close()"
   ],
   "id": "eab5dda0f6570a94",
   "outputs": [],
   "execution_count": 19
  },
  {
   "cell_type": "markdown",
   "id": "3e3b73a2-f556-4db1-9e62-e1e5c3651305",
   "metadata": {},
   "source": []
  },
  {
   "metadata": {},
   "cell_type": "code",
   "outputs": [],
   "execution_count": null,
   "source": "",
   "id": "1e91d5708b06e00d"
  }
 ],
 "metadata": {
  "kernelspec": {
   "display_name": "Python 3 (ipykernel)",
   "language": "python",
   "name": "python3"
  },
  "language_info": {
   "codemirror_mode": {
    "name": "ipython",
    "version": 3
   },
   "file_extension": ".py",
   "mimetype": "text/x-python",
   "name": "python",
   "nbconvert_exporter": "python",
   "pygments_lexer": "ipython3",
   "version": "3.13.2"
  }
 },
 "nbformat": 4,
 "nbformat_minor": 5
}
