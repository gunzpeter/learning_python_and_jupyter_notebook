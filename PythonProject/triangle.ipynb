{
 "cells": [
  {
   "cell_type": "markdown",
   "id": "0b6302c7-659b-46f4-b368-4b2a3c2df7ca",
   "metadata": {
    "collapsed": true,
    "jupyter": {
     "outputs_hidden": true
    }
   },
   "source": [
    "** Háromszöges"
   ]
  },
  {
   "cell_type": "code",
   "execution_count": 2,
   "id": "a8461746f09b63f3",
   "metadata": {
    "ExecuteTime": {
     "end_time": "2025-02-22T18:57:30.928369Z",
     "start_time": "2025-02-22T18:57:26.305377Z"
    }
   },
   "outputs": [
    {
     "name": "stdin",
     "output_type": "stream",
     "text": [
      "add meg az első oldalt hosszát:  4\n",
      "add meg a második oldalt hosszát:  5\n",
      "add meg a harmadik oldalt hosszát:  6\n"
     ]
    },
    {
     "name": "stdout",
     "output_type": "stream",
     "text": [
      "ügyes vagy, létezik ilyen háromszög!\n",
      "\n",
      " nem egy derékszögü háromszög!\n",
      "\n"
     ]
    }
   ],
   "source": [
    "from numpy.ma.core import concatenate\n",
    "from pandas import concat\n",
    "\n",
    "a = (int(input(\"add meg az első oldalt hosszát: \")))\n",
    "b = (int(input(\"add meg a második oldalt hosszát: \")))\n",
    "c = (int(input(\"add meg a harmadik oldalt hosszát: \")))\n",
    "\n",
    "if a + b >= c or a + c >= b or c + b >= a:\n",
    "    print (\"ügyes vagy, létezik ilyen háromszög!\")\n",
    "else:\n",
    "    print (\"menj vissza elsőbe!\")\n",
    "\n",
    "print ()\n",
    "if a**2 + b**2 == c**2 or a**2 + c**2 == b**2 or b**2 + c**2 == a**2:\n",
    "    print (\" ez egy derékszögü háromszög!\")\n",
    "else:\n",
    "    print (\" nem egy derékszögü háromszög!\")\n",
    "\n",
    "print()"
   ]
  },
  {
   "cell_type": "code",
   "id": "96cce0e2b464554b",
   "metadata": {
    "ExecuteTime": {
     "end_time": "2025-02-23T07:06:02.284772Z",
     "start_time": "2025-02-23T07:04:25.033421Z"
    }
   },
   "source": [
    "import graphics\n",
    "from graphics import*\n",
    "import numpy as np\n",
    "\n",
    "#egész számokkal\n",
    "#a = int(input(\"Add meg az A oldal hosszát: \"))\n",
    "#b = int(input(\"Add meg a B oldal hosszát: \"))\n",
    "#c = math.isqrt(a*a + b*b)\n",
    "\n",
    "#lebegő pontos számítás\n",
    "a = float(input(\"Add meg az A oldal hosszát: \"))\n",
    "b = float(input(\"Add meg a B oldal hosszát: \"))\n",
    "c = round(np.hypot(a, b),4)             #only 4 decimals on floating nr\n",
    "\n",
    "print (\"A c oldal hossza:\",c)\n",
    "\n",
    "win=graphics.GraphWin(\"Draw triangle - Click to close\",500,500)\n",
    "\n",
    "x = (a*50)  \n",
    "y = (b*50)\n",
    "z = (c*50)\n",
    "\n",
    "#régi kódolás - tömb létrehozása\n",
    "#vertices = []\n",
    "#vertices.append(graphics.Point(100,400))   #A - pont\n",
    "#vertices.append(graphics.Point(100+y,400)) #B - pont\n",
    "#vertices.append(graphics.Point(100,400-x)) #C - pont\n",
    "\n",
    "#tömb létrehozása\n",
    "vertices = [graphics.Point(100, 400), graphics.Point(100 + y, 400), graphics.Point(100, 400 - x)]\n",
    "triangle = graphics.Polygon(vertices)\n",
    "triangle.setFill('yellow')\n",
    "triangle.draw(win)\n",
    "\n",
    "Oldal = Text(Point(90,400-x/2-10), ('a=',a))\n",
    "Oldal.draw(win)\n",
    "Oldal = Text(Point(100+y/2+10,410), ('b=',b))\n",
    "Oldal.draw(win)\n",
    "Oldal = Text(Point(100+y/2+10,400-x/2-10), ('c',c))\n",
    "Oldal.draw(win)\n",
    "\n",
    "win.getMouse()\n",
    "win.close()\n"
   ],
   "outputs": [
    {
     "name": "stdout",
     "output_type": "stream",
     "text": [
      "A c oldal hossza: 6.4031\n"
     ]
    }
   ],
   "execution_count": 1
  },
  {
   "cell_type": "markdown",
   "id": "3e3b73a2-f556-4db1-9e62-e1e5c3651305",
   "metadata": {},
   "source": []
  }
 ],
 "metadata": {
  "kernelspec": {
   "display_name": "Python 3 (ipykernel)",
   "language": "python",
   "name": "python3"
  },
  "language_info": {
   "codemirror_mode": {
    "name": "ipython",
    "version": 3
   },
   "file_extension": ".py",
   "mimetype": "text/x-python",
   "name": "python",
   "nbconvert_exporter": "python",
   "pygments_lexer": "ipython3",
   "version": "3.13.2"
  }
 },
 "nbformat": 4,
 "nbformat_minor": 5
}
