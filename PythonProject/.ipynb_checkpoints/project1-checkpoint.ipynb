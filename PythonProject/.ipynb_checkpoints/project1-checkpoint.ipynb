{
 "cells": [
  {
   "cell_type": "markdown",
   "id": "d93f9a80-930b-4acb-ba14-6ff2eba0cb8c",
   "metadata": {},
   "source": [
    "# Jupyter notebook project 1\n",
    "## Function: read and display excel records"
   ]
  },
  {
   "cell_type": "code",
   "execution_count": 5,
   "id": "f0310841-e8d4-40fa-bca0-4982e45be1cf",
   "metadata": {
    "jupyter": {
     "is_executing": true
    }
   },
   "outputs": [],
   "source": [
    "#import modules\n",
    "import pandas as pd\n",
    "\n",
    "#varibales\n",
    "file_name = \"C:\\\\Users\\\\gunz\\\\Desktop\\\\Peti\\\\python-ET-4314028-main\\\\myexcel.xlsx\"\n",
    "sheet = \"basic_sheet\"\n",
    "\n",
    "#read data from Excel\n",
    "data = pd.read_excel(file_name, sheet_name=sheet)\n",
    "attr = data.attrib_2\n"
   ]
  },
  {
   "cell_type": "code",
   "execution_count": 6,
   "id": "c74236343cd62c8f",
   "metadata": {
    "ExecuteTime": {
     "end_time": "2025-02-22T16:34:57.656770Z",
     "start_time": "2025-02-22T16:34:57.649161Z"
    }
   },
   "outputs": [
    {
     "name": "stdout",
     "output_type": "stream",
     "text": [
      "<-------all data ----->\n",
      "  attrib_1 attrib_2 attrib_3 attrib_4 attrib_5\n",
      "0       A1       B1       C1       D1       E1\n",
      "1       A2       B2       C2       D2       E2\n",
      "2       A3       B3       C3       D3       E3\n",
      "3       A4       B4       C4       D4       E4\n",
      "4       A5       B5       C5       D5       E5\n",
      "5       A6       B6       C6       D6       E6\n",
      "6       A7       B7       C7       D7       E7\n",
      "7       A8       B8       C8       D8       E8\n",
      "8       A9       B9       C9       D9       E9\n",
      "\n",
      "<------just the selected attribute------>\n",
      "\n",
      "0    B1\n",
      "1    B2\n",
      "2    B3\n",
      "3    B4\n",
      "4    B5\n",
      "5    B6\n",
      "6    B7\n",
      "7    B8\n",
      "8    B9\n",
      "Name: attrib_2, dtype: object\n",
      "\n",
      "-------only the first 5 rows from the attribute------>\n",
      "\n",
      "B1\n",
      "B2\n",
      "B3\n",
      "B4\n",
      "B5\n"
     ]
    }
   ],
   "source": [
    "#using print\n",
    "print(\"<-------all data ----->\")\n",
    "print(data)\n",
    "print()\n",
    "print(\"<------just the selected attribute------>\")\n",
    "print()\n",
    "print(attr)\n",
    "print()\n",
    "print(\"-------only the first 5 rows from the attribute------>\")\n",
    "print()\n",
    "for i in range(5):\n",
    "    print(attr.loc[i])"
   ]
  },
  {
   "cell_type": "code",
   "execution_count": 7,
   "id": "ba9be027-96fe-485a-bd9f-9fb3da54483f",
   "metadata": {
    "ExecuteTime": {
     "end_time": "2025-02-22T16:09:43.725768Z",
     "start_time": "2025-02-22T16:09:43.710454Z"
    }
   },
   "outputs": [
    {
     "name": "stdout",
     "output_type": "stream",
     "text": [
      "   attrib_1  attrib_2  attrib_3  attrib_4  attrib_5\n",
      "0      True      True      True      True      True\n",
      "1      True      True      True      True      True\n",
      "2      True      True      True      True      True\n",
      "3      True      True      True      True      True\n",
      "4      True      True      True      True      True\n",
      "5      True      True      True      True      True\n",
      "6      True      True      True      True      True\n",
      "7      True      True      True      True      True\n",
      "8      True      True      True      True      True\n"
     ]
    }
   ],
   "source": [
    "# compare files - discovered accidentally\n",
    "print(data == pd.read_excel(file_name, sheet_name=sheet))"
   ]
  },
  {
   "cell_type": "code",
   "execution_count": 9,
   "id": "e708c1c9-94a6-4eaa-b1fa-bfafd7cd250a",
   "metadata": {
    "ExecuteTime": {
     "end_time": "2025-02-22T16:41:59.622928Z",
     "start_time": "2025-02-22T16:41:59.602652Z"
    }
   },
   "outputs": [
    {
     "data": {
      "text/html": [
       "<h2>All data</h2>"
      ],
      "text/plain": [
       "<IPython.core.display.HTML object>"
      ]
     },
     "metadata": {},
     "output_type": "display_data"
    },
    {
     "data": {
      "text/html": [
       "<div>\n",
       "<style scoped>\n",
       "    .dataframe tbody tr th:only-of-type {\n",
       "        vertical-align: middle;\n",
       "    }\n",
       "\n",
       "    .dataframe tbody tr th {\n",
       "        vertical-align: top;\n",
       "    }\n",
       "\n",
       "    .dataframe thead th {\n",
       "        text-align: right;\n",
       "    }\n",
       "</style>\n",
       "<table border=\"1\" class=\"dataframe\">\n",
       "  <thead>\n",
       "    <tr style=\"text-align: right;\">\n",
       "      <th></th>\n",
       "      <th>attrib_1</th>\n",
       "      <th>attrib_2</th>\n",
       "      <th>attrib_3</th>\n",
       "      <th>attrib_4</th>\n",
       "      <th>attrib_5</th>\n",
       "    </tr>\n",
       "  </thead>\n",
       "  <tbody>\n",
       "    <tr>\n",
       "      <th>0</th>\n",
       "      <td>A1</td>\n",
       "      <td>B1</td>\n",
       "      <td>C1</td>\n",
       "      <td>D1</td>\n",
       "      <td>E1</td>\n",
       "    </tr>\n",
       "    <tr>\n",
       "      <th>1</th>\n",
       "      <td>A2</td>\n",
       "      <td>B2</td>\n",
       "      <td>C2</td>\n",
       "      <td>D2</td>\n",
       "      <td>E2</td>\n",
       "    </tr>\n",
       "    <tr>\n",
       "      <th>2</th>\n",
       "      <td>A3</td>\n",
       "      <td>B3</td>\n",
       "      <td>C3</td>\n",
       "      <td>D3</td>\n",
       "      <td>E3</td>\n",
       "    </tr>\n",
       "    <tr>\n",
       "      <th>3</th>\n",
       "      <td>A4</td>\n",
       "      <td>B4</td>\n",
       "      <td>C4</td>\n",
       "      <td>D4</td>\n",
       "      <td>E4</td>\n",
       "    </tr>\n",
       "    <tr>\n",
       "      <th>4</th>\n",
       "      <td>A5</td>\n",
       "      <td>B5</td>\n",
       "      <td>C5</td>\n",
       "      <td>D5</td>\n",
       "      <td>E5</td>\n",
       "    </tr>\n",
       "    <tr>\n",
       "      <th>5</th>\n",
       "      <td>A6</td>\n",
       "      <td>B6</td>\n",
       "      <td>C6</td>\n",
       "      <td>D6</td>\n",
       "      <td>E6</td>\n",
       "    </tr>\n",
       "    <tr>\n",
       "      <th>6</th>\n",
       "      <td>A7</td>\n",
       "      <td>B7</td>\n",
       "      <td>C7</td>\n",
       "      <td>D7</td>\n",
       "      <td>E7</td>\n",
       "    </tr>\n",
       "    <tr>\n",
       "      <th>7</th>\n",
       "      <td>A8</td>\n",
       "      <td>B8</td>\n",
       "      <td>C8</td>\n",
       "      <td>D8</td>\n",
       "      <td>E8</td>\n",
       "    </tr>\n",
       "    <tr>\n",
       "      <th>8</th>\n",
       "      <td>A9</td>\n",
       "      <td>B9</td>\n",
       "      <td>C9</td>\n",
       "      <td>D9</td>\n",
       "      <td>E9</td>\n",
       "    </tr>\n",
       "  </tbody>\n",
       "</table>\n",
       "</div>"
      ],
      "text/plain": [
       "  attrib_1 attrib_2 attrib_3 attrib_4 attrib_5\n",
       "0       A1       B1       C1       D1       E1\n",
       "1       A2       B2       C2       D2       E2\n",
       "2       A3       B3       C3       D3       E3\n",
       "3       A4       B4       C4       D4       E4\n",
       "4       A5       B5       C5       D5       E5\n",
       "5       A6       B6       C6       D6       E6\n",
       "6       A7       B7       C7       D7       E7\n",
       "7       A8       B8       C8       D8       E8\n",
       "8       A9       B9       C9       D9       E9"
      ]
     },
     "metadata": {},
     "output_type": "display_data"
    },
    {
     "data": {
      "text/html": [
       "<h2>Selected attribute</h2>"
      ],
      "text/plain": [
       "<IPython.core.display.HTML object>"
      ]
     },
     "metadata": {},
     "output_type": "display_data"
    },
    {
     "data": {
      "text/plain": [
       "0    B1\n",
       "1    B2\n",
       "2    B3\n",
       "3    B4\n",
       "4    B5\n",
       "5    B6\n",
       "6    B7\n",
       "7    B8\n",
       "8    B9\n",
       "Name: attrib_2, dtype: object"
      ]
     },
     "metadata": {},
     "output_type": "display_data"
    },
    {
     "data": {
      "text/html": [
       "<h2>First 5 records from the selected attribute</h2>"
      ],
      "text/plain": [
       "<IPython.core.display.HTML object>"
      ]
     },
     "metadata": {},
     "output_type": "display_data"
    },
    {
     "data": {
      "text/plain": [
       "'B1'"
      ]
     },
     "metadata": {},
     "output_type": "display_data"
    },
    {
     "data": {
      "text/plain": [
       "'B2'"
      ]
     },
     "metadata": {},
     "output_type": "display_data"
    },
    {
     "data": {
      "text/plain": [
       "'B3'"
      ]
     },
     "metadata": {},
     "output_type": "display_data"
    },
    {
     "data": {
      "text/plain": [
       "'B4'"
      ]
     },
     "metadata": {},
     "output_type": "display_data"
    },
    {
     "data": {
      "text/plain": [
       "'B5'"
      ]
     },
     "metadata": {},
     "output_type": "display_data"
    }
   ],
   "source": [
    "# using display\n",
    "from IPython.display import display, HTML\n",
    "display(HTML('<h2>All data</h2>'))\n",
    "display(data)\n",
    "display(HTML('<h2>Selected attribute</h2>'))\n",
    "display(attr)\n",
    "display(HTML('<h2>First 5 records from the selected attribute</h2>'))\n",
    "for i in range(5):\n",
    "    display(attr.loc[i])\n",
    "\n"
   ]
  },
  {
   "cell_type": "code",
   "execution_count": null,
   "id": "56ba44d7d69b82a8",
   "metadata": {},
   "outputs": [],
   "source": []
  },
  {
   "cell_type": "code",
   "execution_count": null,
   "id": "12cbb792-e0ac-4591-bf05-16a00acf2a4e",
   "metadata": {},
   "outputs": [],
   "source": []
  }
 ],
 "metadata": {
  "kernelspec": {
   "display_name": "Python 3 (ipykernel)",
   "language": "python",
   "name": "python3"
  },
  "language_info": {
   "codemirror_mode": {
    "name": "ipython",
    "version": 3
   },
   "file_extension": ".py",
   "mimetype": "text/x-python",
   "name": "python",
   "nbconvert_exporter": "python",
   "pygments_lexer": "ipython3",
   "version": "3.13.2"
  }
 },
 "nbformat": 4,
 "nbformat_minor": 5
}
